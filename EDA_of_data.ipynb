{
 "cells": [
  {
   "cell_type": "markdown",
   "metadata": {},
   "source": [
    "# Instituto Tecnológico de Las Américas (ITLA)\n",
    "\n",
    "## Análisis Exploratorio de Datos\n",
    "\n",
    "### Analítica de datos para finanzas\n",
    "\n",
    "Sustentantes:\n",
    "- Leandro Díaz (2023-0006)\n",
    "- Laura Ramírez (2023-0132)\n",
    "\n",
    "Prof.: **Gregory De la Rosa**\n",
    "\n",
    "Fecha: *19/10/2024*"
   ]
  },
  {
   "cell_type": "markdown",
   "metadata": {},
   "source": []
  }
 ],
 "metadata": {
  "language_info": {
   "name": "python"
  }
 },
 "nbformat": 4,
 "nbformat_minor": 2
}
